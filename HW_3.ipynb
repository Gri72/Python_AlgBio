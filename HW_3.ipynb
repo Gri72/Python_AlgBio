{
 "cells": [
  {
   "cell_type": "markdown",
   "id": "a13dbe59-6471-4682-87b7-207b7288db6d",
   "metadata": {},
   "source": [
    "# Homework 3\n",
    "by Grigory Vykhodtsev"
   ]
  },
  {
   "cell_type": "markdown",
   "id": "e12d104c-2ed6-4857-b74a-0a63a525839d",
   "metadata": {},
   "source": [
    "## [Defanging an IP Address](https://leetcode.com/problems/defanging-an-ip-address/)"
   ]
  },
  {
   "cell_type": "markdown",
   "id": "52632596-5684-4831-8c3a-6d7924166175",
   "metadata": {},
   "source": [
    "Given a valid (IPv4) IP address, return a defanged version of that IP address.\n",
    "\n",
    "A defanged IP address replaces every period \".\" with \"[.]\".\n",
    "\n",
    " \n",
    "\n",
    "Example 1:\n",
    "```\n",
    "Input: address = \"1.1.1.1\"\n",
    "Output: \"1[.]1[.]1[.]1\"\n",
    "Example 2:\n",
    "```\n",
    "```\n",
    "Input: address = \"255.100.50.0\"\n",
    "Output: \"255[.]100[.]50[.]0\"\n",
    "```"
   ]
  },
  {
   "cell_type": "code",
   "execution_count": 61,
   "id": "e1f25f0d-7a92-4cb8-a604-92a29e5a5b6b",
   "metadata": {},
   "outputs": [],
   "source": [
    "class Solution:\n",
    "    def defangIPaddr(self, address: str) -> str:\n",
    "        return address.replace('.','[.]')"
   ]
  },
  {
   "cell_type": "code",
   "execution_count": 62,
   "id": "c89e5b9f-bcf5-4dd2-b781-5a46f8f44e18",
   "metadata": {},
   "outputs": [
    {
     "data": {
      "text/plain": [
       "'255[.]100[.]50[.]0'"
      ]
     },
     "execution_count": 62,
     "metadata": {},
     "output_type": "execute_result"
    }
   ],
   "source": [
    "Solution().defangIPaddr('255.100.50.0')"
   ]
  },
  {
   "cell_type": "markdown",
   "id": "928861a8-905d-4848-a903-0ec178058773",
   "metadata": {},
   "source": [
    "## [Final Value of Variable After Performing Operations](https://leetcode.com/problems/final-value-of-variable-after-performing-operations/)"
   ]
  },
  {
   "cell_type": "markdown",
   "id": "ea399392-c090-4a76-a1f8-04665f1b8f3c",
   "metadata": {},
   "source": [
    "There is a programming language with only four operations and one variable X:\n",
    "\n",
    "- `++X` and `X++` **increments** the value of the variable `X` by `1`.\n",
    "- `--X` and `X--` **decrements** the value of the variable `X` by `1`.\n",
    "\n",
    "Initially, the value of `X` is `0`.\n",
    "\n",
    "Given an array of strings `operations` containing a list of operations, return the final value of `X` after performing all the operations.\n",
    "\n",
    " \n",
    "\n",
    "Example 1:\n",
    "```\n",
    "Input: operations = [\"--X\",\"X++\",\"X++\"]\n",
    "Output: 1\n",
    "Explanation: The operations are performed as follows:\n",
    "Initially, X = 0.\n",
    "--X: X is decremented by 1, X =  0 - 1 = -1.\n",
    "X++: X is incremented by 1, X = -1 + 1 =  0.\n",
    "X++: X is incremented by 1, X =  0 + 1 =  1.\n",
    "```\n",
    "Example 2:\n",
    "```\n",
    "Input: operations = [\"++X\",\"++X\",\"X++\"]\n",
    "Output: 3\n",
    "Explanation: The operations are performed as follows:\n",
    "Initially, X = 0.\n",
    "++X: X is incremented by 1, X = 0 + 1 = 1.\n",
    "++X: X is incremented by 1, X = 1 + 1 = 2.\n",
    "X++: X is incremented by 1, X = 2 + 1 = 3.\n",
    "Example 3:\n",
    "```\n",
    "\n",
    "```\n",
    "Input: operations = [\"X++\",\"++X\",\"--X\",\"X--\"]\n",
    "Output: 0\n",
    "Explanation: The operations are performed as follows:\n",
    "Initially, X = 0.\n",
    "X++: X is incremented by 1, X = 0 + 1 = 1.\n",
    "++X: X is incremented by 1, X = 1 + 1 = 2.\n",
    "--X: X is decremented by 1, X = 2 - 1 = 1.\n",
    "X--: X is decremented by 1, X = 1 - 1 = 0.\n",
    "```\n",
    "\n",
    "Constraints:\n",
    "- `1 <= operations.length <= 100`\n",
    "- `operations[i]` will be either `\"++X\"`, `\"X++\"`, `\"--X\"`, or `\"X--\"`."
   ]
  },
  {
   "cell_type": "code",
   "execution_count": 63,
   "id": "e5104d7c-b94a-4e2b-88c4-572e98d317cd",
   "metadata": {},
   "outputs": [],
   "source": [
    "class Solution:\n",
    "    def finalValueAfterOperations(self, operations: list[str]) -> int:\n",
    "        operations = [i.replace('X','') for i in operations]\n",
    "        return operations.count('++') - operations.count('--')"
   ]
  },
  {
   "cell_type": "code",
   "execution_count": 64,
   "id": "a6911c4f-ee14-4f9a-83dc-611a93cb9dcb",
   "metadata": {},
   "outputs": [
    {
     "data": {
      "text/plain": [
       "0"
      ]
     },
     "execution_count": 64,
     "metadata": {},
     "output_type": "execute_result"
    }
   ],
   "source": [
    "operations = [\"X++\",\"++X\",\"--X\",\"X--\"]\n",
    "Solution().finalValueAfterOperations(operations)"
   ]
  },
  {
   "cell_type": "markdown",
   "id": "1d502e67-5971-4162-8480-ed4b55e08920",
   "metadata": {},
   "source": [
    "## [Maximum Number of Words Found in Sentences](https://leetcode.com/problems/maximum-number-of-words-found-in-sentences/)"
   ]
  },
  {
   "cell_type": "markdown",
   "id": "875529cc-15a7-4934-8789-d758659637d6",
   "metadata": {},
   "source": [
    "A sentence is a list of words that are separated by a single space with no leading or trailing spaces.\n",
    "\n",
    "You are given an array of strings `sentences`, where each `sentences[i]` represents a single sentence.\n",
    "\n",
    "Return the maximum number of words that appear in a single sentence.\n",
    "\n",
    " \n",
    "\n",
    "Example 1:\n",
    "```\n",
    "Input: sentences = [\"alice and bob love leetcode\", \"i think so too\", \"this is great thanks very much\"]\n",
    "Output: 6\n",
    "Explanation: \n",
    "- The first sentence, \"alice and bob love leetcode\", has 5 words in total.\n",
    "- The second sentence, \"i think so too\", has 4 words in total.\n",
    "- The third sentence, \"this is great thanks very much\", has 6 words in total.\n",
    "Thus, the maximum number of words in a single sentence comes from the third sentence, which has 6 words.\n",
    "```\n",
    "Example 2:\n",
    "\n",
    "```\n",
    "Input: sentences = [\"please wait\", \"continue to fight\", \"continue to win\"]\n",
    "Output: 3\n",
    "Explanation: It is possible that multiple sentences contain the same number of words. \n",
    "In this example, the second and third sentences (underlined) have the same number of words.\n",
    "```\n",
    "\n",
    "Constraints:\n",
    "\n",
    "- `1 <= sentences.length <= 100`\n",
    "- `1 <= sentences[i].length <= 100`\n",
    "- `sentences[i]` consists only of lowercase English letters and `' '` only.\n",
    "- `sentences[i]` does not have leading or trailing spaces.\n",
    "- All the words in `sentences[i]` are separated by a single space."
   ]
  },
  {
   "cell_type": "code",
   "execution_count": 65,
   "id": "188678e7-5d7f-4846-9603-09ac45e41785",
   "metadata": {},
   "outputs": [],
   "source": [
    "class Solution:\n",
    "    def mostWordsFound(self, sentences: list[str]) -> int:\n",
    "        return max([sent.count(' ') for sent in sentences])+1"
   ]
  },
  {
   "cell_type": "code",
   "execution_count": 66,
   "id": "b22e374b-6926-476b-9eab-19dfa9b10abf",
   "metadata": {},
   "outputs": [
    {
     "data": {
      "text/plain": [
       "6"
      ]
     },
     "execution_count": 66,
     "metadata": {},
     "output_type": "execute_result"
    }
   ],
   "source": [
    "sentences = [\"alice and bob love leetcode\",\"i think so too\",\"this is great thanks very much\"]\n",
    "Solution().mostWordsFound(sentences)"
   ]
  },
  {
   "cell_type": "markdown",
   "id": "d44c417d-4ba7-4437-a5b0-9d1584fbfc12",
   "metadata": {},
   "source": [
    "## [Jewels and Stones](https://leetcode.com/problems/jewels-and-stones/description/)"
   ]
  },
  {
   "cell_type": "markdown",
   "id": "620f9311-9d3d-48d6-9c68-32f8b210fb44",
   "metadata": {},
   "source": [
    "You're given strings `jewels` representing the types of stones that are jewels, and `stones` representing the stones you have. Each character in `stones` is a type of stone you have. You want to know how many of the stones you have are also jewels.\n",
    "\n",
    "Letters are case sensitive, so `\"a\"` is considered a different type of stone from `\"A\"`.\n",
    "\n",
    " \n",
    "\n",
    "Example 1:\n",
    "```\n",
    "Input: jewels = \"aA\", stones = \"aAAbbbb\"\n",
    "Output: 3\n",
    "```\n",
    "```\n",
    "Example 2:\n",
    "Input: jewels = \"z\", stones = \"ZZ\"\n",
    "Output: 0\n",
    "```\n",
    "\n",
    "Constraints:\n",
    "\n",
    "- `1 <= jewels.length, stones.length <= 50`\n",
    "- `jewels` and `stones` consist of only English letters.\n",
    "- All the characters of `jewels` are unique."
   ]
  },
  {
   "cell_type": "code",
   "execution_count": 67,
   "id": "00d07815-f9c7-472e-b3fb-8a65bccb4019",
   "metadata": {},
   "outputs": [],
   "source": [
    "class Solution:\n",
    "    def numJewelsInStones(self, jewels: str, stones: str) -> int:\n",
    "        return sum([stones.count(jewel) for jewel in jewels])"
   ]
  },
  {
   "cell_type": "code",
   "execution_count": 68,
   "id": "811ba339-c81a-4594-92e9-cb618d16b644",
   "metadata": {},
   "outputs": [
    {
     "data": {
      "text/plain": [
       "3"
      ]
     },
     "execution_count": 68,
     "metadata": {},
     "output_type": "execute_result"
    }
   ],
   "source": [
    "Solution().numJewelsInStones(\"aA\", \"aAAbbbb\")"
   ]
  },
  {
   "cell_type": "markdown",
   "id": "665faffb-420c-421b-a0ce-d8718c9eaa52",
   "metadata": {},
   "source": [
    "## [Truncate Sentence](https://leetcode.com/problems/truncate-sentence/description/)"
   ]
  },
  {
   "cell_type": "markdown",
   "id": "3d7369d8-beca-4ad6-a243-5d18eecefdd9",
   "metadata": {},
   "source": [
    "A sentence is a list of words that are separated by a single space with no leading or trailing spaces. Each of the words consists of only uppercase and lowercase English letters (no punctuation).\n",
    "\n",
    "For example, `\"Hello World\"`, `\"HELLO\"`, and `\"hello world hello world\"` are all sentences.\n",
    "\n",
    "You are given a sentence `s` and an integer `k`. You want to truncate `s` such that it contains only the first `k` words. Return `s` after truncating it.\n",
    "\n",
    " \n",
    "\n",
    "Example 1:\n",
    "```\n",
    "Input: s = \"Hello how are you Contestant\", k = 4\n",
    "Output: \"Hello how are you\"\n",
    "Explanation:\n",
    "The words in s are [\"Hello\", \"how\" \"are\", \"you\", \"Contestant\"].\n",
    "The first 4 words are [\"Hello\", \"how\", \"are\", \"you\"].\n",
    "Hence, you should return \"Hello how are you\".\n",
    "```\n",
    "Example 2:\n",
    "```\n",
    "Input: s = \"What is the solution to this problem\", k = 4\n",
    "Output: \"What is the solution\"\n",
    "Explanation:\n",
    "The words in s are [\"What\", \"is\" \"the\", \"solution\", \"to\", \"this\", \"problem\"].\n",
    "The first 4 words are [\"What\", \"is\", \"the\", \"solution\"].\n",
    "Hence, you should return \"What is the solution\".\n",
    "```\n",
    "Example 3:\n",
    "```\n",
    "Input: s = \"chopper is not a tanuki\", k = 5\n",
    "Output: \"chopper is not a tanuki\"\n",
    "```\n",
    "\n",
    "Constraints:\n",
    "\n",
    "- `1 <= s.length <= 500`\n",
    "- `k` is in the range `[1, the number of words in s]`.\n",
    "- `s` consist of only lowercase and uppercase English letters and spaces.\n",
    "- The words in `s` are separated by a single space.\n",
    "- There are no leading or trailing spaces."
   ]
  },
  {
   "cell_type": "code",
   "execution_count": 69,
   "id": "bcdd5ae6-4471-48c0-9f43-9e3e4a392dd6",
   "metadata": {},
   "outputs": [],
   "source": [
    "class Solution:\n",
    "    def truncateSentence(self, s: str, k: int) -> str:\n",
    "        return \" \".join(s.split()[:k])"
   ]
  },
  {
   "cell_type": "code",
   "execution_count": 70,
   "id": "8ea353c9-c4a5-4151-af36-92c91e293cd5",
   "metadata": {},
   "outputs": [
    {
     "data": {
      "text/plain": [
       "'Hello how are'"
      ]
     },
     "execution_count": 70,
     "metadata": {},
     "output_type": "execute_result"
    }
   ],
   "source": [
    "Solution().truncateSentence(\"Hello how are you Contestant\",3)"
   ]
  },
  {
   "cell_type": "markdown",
   "id": "36f4c86a-4612-46c1-892c-11e189b598e0",
   "metadata": {},
   "source": [
    "## [Percentage of Letter in String](https://leetcode.com/problems/percentage-of-letter-in-string/description/)"
   ]
  },
  {
   "cell_type": "markdown",
   "id": "591cef86-349d-4195-bd8c-da116196ecf6",
   "metadata": {},
   "source": [
    "Given a string `s` and a character `letter`, return the percentage of characters in `s` that equal `letter` rounded down to the nearest whole percent.\n",
    "\n",
    " \n",
    "\n",
    "Example 1:\n",
    "```\n",
    "Input: s = \"foobar\", letter = \"o\"\n",
    "Output: 33\n",
    "Explanation:\n",
    "The percentage of characters in s that equal the letter 'o' is 2 / 6 * 100% = 33% when rounded down, so we return 33.\n",
    "```\n",
    "Example 2:\n",
    "```\n",
    "Input: s = \"jjjj\", letter = \"k\"\n",
    "Output: 0\n",
    "Explanation:\n",
    "The percentage of characters in s that equal the letter 'k' is 0%, so we return 0.\n",
    "```\n",
    "\n",
    "Constraints:\n",
    "\n",
    "- `1 <= s.length <= 100`\n",
    "- `s` consists of lowercase English letters.\n",
    "- `letter` is a lowercase English letter."
   ]
  },
  {
   "cell_type": "code",
   "execution_count": 75,
   "id": "63660d4f-202c-41c4-80ab-fb6099332fa1",
   "metadata": {},
   "outputs": [],
   "source": [
    "class Solution:\n",
    "    def percentageLetter(self, s: str, letter: str) -> int:\n",
    "        return int(s.count(letter)*100/len(s))"
   ]
  },
  {
   "cell_type": "code",
   "execution_count": 76,
   "id": "aa93c00b-c903-44bc-a190-90758cc28f9e",
   "metadata": {},
   "outputs": [
    {
     "data": {
      "text/plain": [
       "33"
      ]
     },
     "execution_count": 76,
     "metadata": {},
     "output_type": "execute_result"
    }
   ],
   "source": [
    "Solution().percentageLetter('foobar','o')"
   ]
  },
  {
   "cell_type": "markdown",
   "id": "ac8e6f39-42e0-44e4-919e-61c14f6bc5e6",
   "metadata": {},
   "source": [
    "## [Maximum Number of Words You Can Type](https://leetcode.com/problems/maximum-number-of-words-you-can-type/)"
   ]
  },
  {
   "cell_type": "markdown",
   "id": "881f95e5-19b1-4b87-9a19-6863bbc07890",
   "metadata": {},
   "source": [
    "There is a malfunctioning keyboard where some letter keys do not work. All other keys on the keyboard work properly.\n",
    "\n",
    "Given a string `text` of words separated by a single space (no leading or trailing spaces) and a string `brokenLetters` of all distinct letter keys that are broken, return the number of words in text you can fully type using this keyboard.\n",
    "\n",
    " \n",
    "\n",
    "Example 1:\n",
    "```\n",
    "Input: text = \"hello world\", brokenLetters = \"ad\"\n",
    "Output: 1\n",
    "Explanation: We cannot type \"world\" because the 'd' key is broken.\n",
    "```\n",
    "Example 2:\n",
    "```\n",
    "Input: text = \"leet code\", brokenLetters = \"lt\"\n",
    "Output: 1\n",
    "Explanation: We cannot type \"leet\" because the 'l' and 't' keys are broken.\n",
    "```\n",
    "Example 3:\n",
    "```\n",
    "Input: text = \"leet code\", brokenLetters = \"e\"\n",
    "Output: 0\n",
    "Explanation: We cannot type either word because the 'e' key is broken.\n",
    "```\n",
    "\n",
    "Constraints:\n",
    "\n",
    "- `1 <= text.length <= 104`\n",
    "- `0 <= brokenLetters.length <= 26`\n",
    "- `text` consists of words separated by a single space without any leading or trailing spaces.\n",
    "- Each word only consists of lowercase English letters.\n",
    "- `brokenLetters` consists of distinct lowercase English letters."
   ]
  },
  {
   "cell_type": "code",
   "execution_count": 77,
   "id": "02354392-5385-49fe-b9b0-9faf384a8948",
   "metadata": {},
   "outputs": [],
   "source": [
    "class Solution:\n",
    "    def canBeTypedWords(self, text: str, brokenLetters: str) -> int:\n",
    "        bl = set(brokenLetters)\n",
    "        return sum([not set(word) & bl for word in text.split()])"
   ]
  },
  {
   "cell_type": "code",
   "execution_count": 78,
   "id": "4d514782-1447-436f-84a0-1c0436e72d79",
   "metadata": {},
   "outputs": [
    {
     "data": {
      "text/plain": [
       "1"
      ]
     },
     "execution_count": 78,
     "metadata": {},
     "output_type": "execute_result"
    }
   ],
   "source": [
    "Solution().canBeTypedWords('hello world','e')"
   ]
  }
 ],
 "metadata": {
  "kernelspec": {
   "display_name": "Python 3 (ipykernel)",
   "language": "python",
   "name": "python3"
  },
  "language_info": {
   "codemirror_mode": {
    "name": "ipython",
    "version": 3
   },
   "file_extension": ".py",
   "mimetype": "text/x-python",
   "name": "python",
   "nbconvert_exporter": "python",
   "pygments_lexer": "ipython3",
   "version": "3.9.13"
  }
 },
 "nbformat": 4,
 "nbformat_minor": 5
}
