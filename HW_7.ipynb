{
 "cells": [
  {
   "cell_type": "markdown",
   "id": "d3bf6ad4-925f-4a82-8ea1-cfd061c1e293",
   "metadata": {},
   "source": [
    "# Homework 7\n",
    "by Grigory Vykhodtsev"
   ]
  },
  {
   "cell_type": "code",
   "execution_count": null,
   "id": "84f2fb78-a62f-4f8e-8a18-2e381b91aa32",
   "metadata": {},
   "outputs": [],
   "source": [
    "# 1. Design Parking System (LeetCode: 1603)\n",
    "# https://leetcode.com/problems/design-parking-system/\n",
    "\n",
    "# 2. Simple Bank System (LeetCode: 2043)\n",
    "# https://leetcode.com/problems/simple-bank-system/description/\n",
    "\n",
    "# 3. Придумайте свой класс (можно найти в интернете),\n",
    "# который реализовывал бы какой-то прикладной аспект в вашей профессии (минимум два метода в классе).\n",
    "\n",
    "# 4. Описать ещё три дополнительных magic метода (один обязательный: __slot__)\n",
    "\n",
    "# 5. Описать разницу между __str__ и __repr__"
   ]
  },
  {
   "cell_type": "markdown",
   "id": "84c3affa-3434-4253-8837-3a6d48a32af4",
   "metadata": {},
   "source": [
    "## 1. Design Parking System (LeetCode: 1603)"
   ]
  },
  {
   "cell_type": "markdown",
   "id": "c8f62db7-63dc-483e-a874-ad803cf661cf",
   "metadata": {},
   "source": [
    "Design a parking system for a parking lot. The parking lot has three kinds of parking spaces: big, medium, and small, with a fixed number of slots for each size.\n",
    "\n",
    "Implement the ParkingSystem class:\n",
    "\n",
    "- ParkingSystem(int big, int medium, int small) Initializes object of the ParkingSystem class. The number of slots for each parking space are given as part of the constructor.\n",
    "- bool addCar(int carType) Checks whether there is a parking space of carType for the car that wants to get into the parking lot. carType can be of three kinds: big, medium, or small, which are represented by 1, 2, and 3 respectively. A car can only park in a parking space of its carType. If there is no space available, return false, else park the car in that size space and return true.\n",
    " \n",
    "\n",
    "Example 1:\n",
    "```\n",
    "Input\n",
    "[\"ParkingSystem\", \"addCar\", \"addCar\", \"addCar\", \"addCar\"]\n",
    "[[1, 1, 0], [1], [2], [3], [1]]\n",
    "Output\n",
    "[null, true, true, false, false]\n",
    "\n",
    "Explanation\n",
    "ParkingSystem parkingSystem = new ParkingSystem(1, 1, 0);\n",
    "parkingSystem.addCar(1); // return true because there is 1 available slot for a big car\n",
    "parkingSystem.addCar(2); // return true because there is 1 available slot for a medium car\n",
    "parkingSystem.addCar(3); // return false because there is no available slot for a small car\n",
    "parkingSystem.addCar(1); // return false because there is no available slot for a big car. It is already occupied.\n",
    "```\n",
    "\n",
    "Constraints:\n",
    "\n",
    "- 0 <= big, medium, small <= 1000\n",
    "- carType is 1, 2, or 3\n",
    "- At most 1000 calls will be made to addCar"
   ]
  },
  {
   "cell_type": "code",
   "execution_count": 11,
   "id": "e0c65a79-2143-461a-a797-48fb422ecfb4",
   "metadata": {},
   "outputs": [],
   "source": [
    "class ParkingSystem:\n",
    "    def __init__(self, big: int, medium: int, small: int):\n",
    "        self.spaces = { 1: big,\n",
    "                        2: medium,\n",
    "                        3: small  }\n",
    "\n",
    "    def addCar(self, carType: int) -> bool:\n",
    "        slots = self.spaces[carType]\n",
    "        if slots:\n",
    "            self.spaces[carType] = slots -1\n",
    "        return bool(slots)\n",
    "\n",
    "\n",
    "# Your ParkingSystem object will be instantiated and called as such:\n",
    "# obj = ParkingSystem(big, medium, small)\n",
    "# param_1 = obj.addCar(carType)"
   ]
  },
  {
   "cell_type": "code",
   "execution_count": 15,
   "id": "54ef323d-a864-41a9-a5d3-d59b65317134",
   "metadata": {},
   "outputs": [
    {
     "name": "stdout",
     "output_type": "stream",
     "text": [
      "True\n",
      "False\n",
      "False\n",
      "False\n"
     ]
    }
   ],
   "source": [
    "a = ParkingSystem(1,0,0)\n",
    "print(a.addCar(1))\n",
    "print(a.addCar(2))\n",
    "print(a.addCar(3))\n",
    "print(a.addCar(1))"
   ]
  },
  {
   "cell_type": "markdown",
   "id": "7b0b279c-8b51-4d42-9b48-3a25044daad9",
   "metadata": {},
   "source": [
    "## 2. Simple Bank System (LeetCode: 2043)"
   ]
  },
  {
   "cell_type": "markdown",
   "id": "779f4ddc-c7e5-4b82-b20a-096c8976f8c5",
   "metadata": {},
   "source": [
    "You have been tasked with writing a program for a popular bank that will automate all its incoming transactions (transfer, deposit, and withdraw). The bank has n accounts numbered from 1 to n. The initial balance of each account is stored in a 0-indexed integer array balance, with the (i + 1)th account having an initial balance of balance[i].\n",
    "\n",
    "Execute all the valid transactions. A transaction is valid if:\n",
    "\n",
    "The given account number(s) are between 1 and n, and\n",
    "The amount of money withdrawn or transferred from is less than or equal to the balance of the account.\n",
    "Implement the Bank class:\n",
    "\n",
    "Bank(long[] balance) Initializes the object with the 0-indexed integer array balance.\n",
    "boolean transfer(int account1, int account2, long money) Transfers money dollars from the account numbered account1 to the account numbered account2. Return true if the transaction was successful, false otherwise.\n",
    "boolean deposit(int account, long money) Deposit money dollars into the account numbered account. Return true if the transaction was successful, false otherwise.\n",
    "boolean withdraw(int account, long money) Withdraw money dollars from the account numbered account. Return true if the transaction was successful, false otherwise.\n",
    " \n",
    "\n",
    "Example 1:\n",
    "```\n",
    "Input\n",
    "[\"Bank\", \"withdraw\", \"transfer\", \"deposit\", \"transfer\", \"withdraw\"]\n",
    "[[[10, 100, 20, 50, 30]], [3, 10], [5, 1, 20], [5, 20], [3, 4, 15], [10, 50]]\n",
    "Output\n",
    "[null, true, true, true, false, false]\n",
    "\n",
    "Explanation\n",
    "Bank bank = new Bank([10, 100, 20, 50, 30]);\n",
    "bank.withdraw(3, 10);    // return true, account 3 has a balance of $20, so it is valid to withdraw $10.\n",
    "                         // Account 3 has $20 - $10 = $10.\n",
    "bank.transfer(5, 1, 20); // return true, account 5 has a balance of $30, so it is valid to transfer $20.\n",
    "                         // Account 5 has $30 - $20 = $10, and account 1 has $10 + $20 = $30.\n",
    "bank.deposit(5, 20);     // return true, it is valid to deposit $20 to account 5.\n",
    "                         // Account 5 has $10 + $20 = $30.\n",
    "bank.transfer(3, 4, 15); // return false, the current balance of account 3 is $10,\n",
    "                         // so it is invalid to transfer $15 from it.\n",
    "bank.withdraw(10, 50);   // return false, it is invalid because account 10 does not exist.\n",
    "```\n",
    "\n",
    "Constraints:\n",
    "- n == balance.length\n",
    "- 1 <= n, account, account1, account2 <= 105\n",
    "- 0 <= balance[i], money <= 1012\n",
    "- At most 104 calls will be made to each function transfer, deposit, withdraw."
   ]
  },
  {
   "cell_type": "code",
   "execution_count": null,
   "id": "40f98374-6a25-49a7-9566-6614b94fe431",
   "metadata": {},
   "outputs": [],
   "source": [
    "class Bank:\n",
    "    def __init__(self, balance: List[int]):\n",
    "        self.balance = balance\n",
    "    def transfer(self, account1: int, account2: int, money: int) -> bool:\n",
    "        res = False\n",
    "        n = len(self.balance)\n",
    "        if 1 <= account1 <= n and 1 <= account2 <= n:\n",
    "            if self.balance[account1-1] >= money:\n",
    "                self.balance[account1-1] -= money\n",
    "                self.balance[account2-1] += money\n",
    "                res = True\n",
    "        return res\n",
    "\n",
    "    def deposit(self, account: int, money: int) -> bool:\n",
    "        res = False\n",
    "        n = len(self.balance)\n",
    "        if 1 <= account <= n:\n",
    "            self.balance[account-1] += money\n",
    "            res = True\n",
    "        return res\n",
    "        \n",
    "    def withdraw(self, account: int, money: int) -> bool:\n",
    "        res = False\n",
    "        n = len(self.balance)\n",
    "        if 1 <= account <= n:\n",
    "            if self.balance[account-1] >= money:\n",
    "                self.balance[account-1] -= money\n",
    "                res = True\n",
    "        return res       \n",
    "\n",
    "# Your Bank object will be instantiated and called as such:\n",
    "# obj = Bank(balance)\n",
    "# param_1 = obj.transfer(account1,account2,money)\n",
    "# param_2 = obj.deposit(account,money)\n",
    "# param_3 = obj.withdraw(account,money)"
   ]
  },
  {
   "cell_type": "markdown",
   "id": "d7954e8c-c7d0-4d8e-a7e0-2911f2921a61",
   "metadata": {},
   "source": [
    "## 3. Собственный класс"
   ]
  },
  {
   "cell_type": "code",
   "execution_count": 87,
   "id": "d5eb9e44-01c3-4752-9c1f-e31c5dd4bd46",
   "metadata": {},
   "outputs": [],
   "source": [
    "class NucleicAcid_Seq:\n",
    "    __slots__ = ['type', 'seq']\n",
    "    compl_dna = {'A':'T', 'G':'C', 'T':'A', 'C':'G', 'N':'N'}\n",
    "    compl_rna = {'A':'U', 'G':'C', 'U':'A', 'C':'G', 'N':'N'}\n",
    "    def __init__(self, seq: str):\n",
    "        self.seq = seq.upper()\n",
    "        if set(self.seq) <= set('ATGCN'):\n",
    "            self.type = 'DNA'\n",
    "        elif set(self.seq) <= set('AUGCN'):\n",
    "            self.type = 'RNA'\n",
    "        else:\n",
    "            raise ValueError('seq is not sequence of nucleic acid')\n",
    "                \n",
    "    def gc_content(self):\n",
    "        \"\"\"Рассчет GC состава в последовательности\n",
    "        \"\"\"\n",
    "        return (self.seq.count('G') + self.seq.count('С'))/len(self.seq) * 100\n",
    "    \n",
    "    def compl_strand(self):\n",
    "        \"\"\"Выводит комплементарную последовательность в направлении от 5' к 3'\n",
    "        \"\"\"\n",
    "        if self.type == 'DNA':\n",
    "            compl = NucleicAcid_Seq.compl_dna\n",
    "        else:\n",
    "            compl = NucleicAcid_Seq.compl_rna\n",
    "        \n",
    "        return ''.join([compl[nt] for nt in self.seq[::-1]])\n",
    "        \n",
    "    def __repr__(self):\n",
    "        return f'{self.type}: {self.seq}'\n"
   ]
  },
  {
   "cell_type": "code",
   "execution_count": 88,
   "id": "841a0325-eb82-4b8e-b803-4a6844cb6621",
   "metadata": {},
   "outputs": [
    {
     "data": {
      "text/plain": [
       "DNA: AAAAACCCCGGCGCGT"
      ]
     },
     "execution_count": 88,
     "metadata": {},
     "output_type": "execute_result"
    }
   ],
   "source": [
    "Seq1 = NucleicAcid_Seq('aaaaaccccggcgcgt')\n",
    "Seq1"
   ]
  },
  {
   "cell_type": "code",
   "execution_count": 89,
   "id": "0d134e1e-5555-4fa0-a04a-a2fbb1a5d41d",
   "metadata": {},
   "outputs": [
    {
     "data": {
      "text/plain": [
       "25.0"
      ]
     },
     "execution_count": 89,
     "metadata": {},
     "output_type": "execute_result"
    }
   ],
   "source": [
    "Seq1.gc_content()"
   ]
  },
  {
   "cell_type": "code",
   "execution_count": 90,
   "id": "f78f3261-0b72-4f37-a22f-6ae80bbf4f60",
   "metadata": {},
   "outputs": [
    {
     "data": {
      "text/plain": [
       "'ACGCGCCGGGGTTTTT'"
      ]
     },
     "execution_count": 90,
     "metadata": {},
     "output_type": "execute_result"
    }
   ],
   "source": [
    "Seq1.compl_strand()"
   ]
  },
  {
   "cell_type": "markdown",
   "id": "e216b206-ffda-4900-9620-7804d7c8cfcc",
   "metadata": {},
   "source": [
    "## 4. Описать ещё три дополнительных magic метода"
   ]
  },
  {
   "cell_type": "markdown",
   "id": "6d286763-50f8-4776-8020-0c7f6dcc2468",
   "metadata": {},
   "source": [
    "- `__getitem__(self, key)` -- позволяет получать значения по индексу `a[key]`\n",
    "- `__call__` -- позволяет использовать экземпляр класса как функцию `a()`\n",
    "- `__slots__` -- заменяет `__dict__`, хранит список строк с называниями атрибутов, которые будет использовать экземпляр класса  "
   ]
  },
  {
   "cell_type": "markdown",
   "id": "d6d12a1c-fe8f-49ac-bf55-6ec59cf7c9d1",
   "metadata": {},
   "source": [
    "## 5. Описать разницу между __str__ и __repr__"
   ]
  },
  {
   "cell_type": "code",
   "execution_count": 96,
   "id": "95806e24-b804-4f55-9c8f-f2cf2ca5108b",
   "metadata": {},
   "outputs": [],
   "source": [
    "class A:\n",
    "    def __repr__(self):\n",
    "        return 'repr'\n",
    "    def __str__(self):\n",
    "        return 'str'\n",
    "    \n",
    "class B:\n",
    "    def __repr__(self):\n",
    "        return 'repr'\n",
    "    \n",
    "class C:\n",
    "    def __str__(self):\n",
    "        return 'str'"
   ]
  },
  {
   "cell_type": "code",
   "execution_count": 103,
   "id": "97f2964d-96f3-430c-bde4-b4066b97f914",
   "metadata": {},
   "outputs": [],
   "source": [
    "a = A()\n",
    "b = B()\n",
    "c = C()"
   ]
  },
  {
   "cell_type": "markdown",
   "id": "e64d3b16-b3bb-4c4b-8cdc-38878b1068eb",
   "metadata": {},
   "source": [
    "`__repr__` выводит строковое представление вызывая экземпляр просто указания переменной экземпляра в последней строчке"
   ]
  },
  {
   "cell_type": "code",
   "execution_count": 104,
   "id": "f04e1487-d031-4d31-b4d7-858e2319ed96",
   "metadata": {},
   "outputs": [
    {
     "data": {
      "text/plain": [
       "repr"
      ]
     },
     "execution_count": 104,
     "metadata": {},
     "output_type": "execute_result"
    }
   ],
   "source": [
    "a"
   ]
  },
  {
   "cell_type": "code",
   "execution_count": 105,
   "id": "70d41df6-c40b-49e6-8644-4d98d1ebbe0e",
   "metadata": {},
   "outputs": [
    {
     "data": {
      "text/plain": [
       "repr"
      ]
     },
     "execution_count": 105,
     "metadata": {},
     "output_type": "execute_result"
    }
   ],
   "source": [
    "b"
   ]
  },
  {
   "cell_type": "code",
   "execution_count": 106,
   "id": "917effe6-a35c-4088-8b57-72cf471fb3b3",
   "metadata": {},
   "outputs": [
    {
     "data": {
      "text/plain": [
       "<__main__.C at 0x7f9506d66310>"
      ]
     },
     "execution_count": 106,
     "metadata": {},
     "output_type": "execute_result"
    }
   ],
   "source": [
    "c"
   ]
  },
  {
   "cell_type": "markdown",
   "id": "63b058eb-d04f-43a5-8650-9cc77d899a64",
   "metadata": {},
   "source": [
    "`__str__` выводит строковое представления экземпляра с помощью функции print. Если нет `__str__`, то `__repr__` выведется в print "
   ]
  },
  {
   "cell_type": "code",
   "execution_count": 107,
   "id": "c658a3f5-2c16-474c-aafe-4612728834d9",
   "metadata": {},
   "outputs": [
    {
     "name": "stdout",
     "output_type": "stream",
     "text": [
      "str\n",
      "repr\n",
      "str\n"
     ]
    }
   ],
   "source": [
    "print(a)\n",
    "print(b)\n",
    "print(c)"
   ]
  },
  {
   "cell_type": "markdown",
   "id": "6720a01e-f405-4ed4-84f3-444c9e6c76ab",
   "metadata": {},
   "source": [
    "`__str__` определяет, что будет на выходе у функции str(). Если нет `__str__`, то `__repr__` заменит."
   ]
  },
  {
   "cell_type": "code",
   "execution_count": 112,
   "id": "fbe775ac-771e-43d1-a503-e322763017b3",
   "metadata": {},
   "outputs": [
    {
     "name": "stdout",
     "output_type": "stream",
     "text": [
      "str\n",
      "repr\n",
      "str\n"
     ]
    }
   ],
   "source": [
    "print(str(a))\n",
    "print(str(b))\n",
    "print(str(c))"
   ]
  }
 ],
 "metadata": {
  "kernelspec": {
   "display_name": "Python 3 (ipykernel)",
   "language": "python",
   "name": "python3"
  },
  "language_info": {
   "codemirror_mode": {
    "name": "ipython",
    "version": 3
   },
   "file_extension": ".py",
   "mimetype": "text/x-python",
   "name": "python",
   "nbconvert_exporter": "python",
   "pygments_lexer": "ipython3",
   "version": "3.9.13"
  }
 },
 "nbformat": 4,
 "nbformat_minor": 5
}
