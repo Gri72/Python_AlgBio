{
 "cells": [
  {
   "cell_type": "markdown",
   "id": "ae98da35-869f-4bee-9bb8-1ade427912b1",
   "metadata": {},
   "source": [
    "# Homework 1\n",
    "by Grigory Vykhodtsev"
   ]
  },
  {
   "cell_type": "markdown",
   "id": "d4abf1d7-3ebf-4447-be23-00e73f3369ac",
   "metadata": {},
   "source": [
    "## Excercise 1.Celsius and Fahrenheit Converter\n",
    "\n",
    "Description: To convert temperature between Fahrenheit to Celsius and Celsius to Fahrenheit\n",
    "\n",
    "Formulas:\n",
    "$$\n",
    "\\begin{aligned}\n",
    "T_F &= \\frac{9}{5}T_C + 32 \\\\\n",
    "T_C &= \\frac{5}{9}(T_F - 32)\n",
    "\\end{aligned}\n",
    "$$"
   ]
  },
  {
   "cell_type": "code",
   "execution_count": 1,
   "id": "3d5a43f4-8fde-41fb-9c72-fa50d1003bca",
   "metadata": {},
   "outputs": [
    {
     "data": {
      "text/plain": [
       "0.5555555555555556"
      ]
     },
     "execution_count": 14,
     "metadata": {},
     "output_type": "execute_result"
    }
   ],
   "source": [
    "def Cel2Fahr(T_c):\n",
    "    return((9/5)*T_c + 32)\n",
    "def Fahr2Cel(T_f):\n",
    "    return((5/9)*(T_f - 32))"
   ]
  },
  {
   "cell_type": "code",
   "execution_count": 12,
   "id": "04020787-3c56-46ed-b389-47e757a9d97d",
   "metadata": {},
   "outputs": [
    {
     "name": "stdout",
     "output_type": "stream",
     "text": [
      "40°C equals to 104.0°F\n",
      "60°F equals to 15.56°C\n"
     ]
    }
   ],
   "source": [
    "print(f\"40°C equals to {round(Cel2Fahr(40),2)}°F\")\n",
    "print(f\"60°F equals to {round(Fahr2Cel(60),2)}°C\")"
   ]
  },
  {
   "cell_type": "markdown",
   "id": "04d882e4-4a1e-479f-8458-e7df1a68dc10",
   "metadata": {},
   "source": [
    "### Leetcode similar excersise\n",
    "[link](https://leetcode.com/problems/convert-the-temperature/description/)\n",
    "\n",
    "**Convert the Temperature**\n",
    "\n",
    "You are given a non-negative floating point number rounded to two decimal places `celsius`, that denotes the **temperature in Celsius**.\n",
    "\n",
    "You should convert Celsius into **Kelvin and Fahrenheit** and return it as an array `ans = [kelvin, fahrenheit]`.\n",
    "\n",
    "Return the array `ans`. Answers within `10-5` of the actual answer will be accepted.\n",
    "\n",
    "**Note that:**\n",
    "\n",
    "`Kelvin = Celsius + 273.15`\n",
    "`Fahrenheit = Celsius * 1.80 + 32.00`\n",
    " \n",
    "\n",
    "**Example 1:**\n",
    "\n",
    "```\n",
    "Input: celsius = 36.50\n",
    "Output: [309.65000,97.70000]\n",
    "Explanation: Temperature at 36.50 Celsius converted in Kelvin is 309.65 and converted in Fahrenheit is 97.70.\n",
    "```\n",
    "**Example 2:**\n",
    "```\n",
    "Input: celsius = 122.11\n",
    "Output: [395.26000,251.79800]\n",
    "Explanation: Temperature at 122.11 Celsius converted in Kelvin is 395.26 and converted in Fahrenheit is 251.798.\n",
    "```"
   ]
  },
  {
   "cell_type": "code",
   "execution_count": 19,
   "id": "330b9760-5157-4848-bb0b-9b93dea6fb60",
   "metadata": {},
   "outputs": [],
   "source": [
    "class Solution(object):\n",
    "    def convertTemperature(self, celsius):\n",
    "        \"\"\"\n",
    "        :type celsius: float\n",
    "        :rtype: List[float]\n",
    "        \"\"\"\n",
    "        K = celsius + 273.15\n",
    "        F = celsius * 1.8 + 32\n",
    "        return([K,F])"
   ]
  },
  {
   "cell_type": "code",
   "execution_count": 21,
   "id": "3fa9c2e9-1f8f-42d9-80c6-9034baf87e3f",
   "metadata": {},
   "outputs": [
    {
     "data": {
      "text/plain": [
       "[313.15, 104.0]"
      ]
     },
     "execution_count": 21,
     "metadata": {},
     "output_type": "execute_result"
    }
   ],
   "source": [
    "Solution().convertTemperature(40)"
   ]
  },
  {
   "cell_type": "markdown",
   "id": "d4965260-1d5e-4cd8-b709-348df6847288",
   "metadata": {},
   "source": [
    "## Excercise 2.Road tax\n",
    "\n",
    "**Description:** Write a program to accept the cost price of a bike and\n",
    "             display the road tax to be paid according to the following criteria.\n",
    "    \n",
    "|Cost price (in Rs)|            Tax|\n",
    "|---|---|\n",
    "|> 100_000               |       15%|\n",
    "|> 50_000 and <= 100_000 |       10%|\n",
    "|<= 50_000                |      5%|\n"
   ]
  },
  {
   "cell_type": "code",
   "execution_count": 33,
   "id": "817ef5ef-7581-4251-85a6-f48f402a0f97",
   "metadata": {},
   "outputs": [],
   "source": [
    "def Tax(cost_price):\n",
    "    if cost_price > 100000:\n",
    "        tax_coef = 0.15\n",
    "    elif cost_price > 50000:\n",
    "        tax_coef = 0.1\n",
    "    else:\n",
    "        tax_coef = 0.05\n",
    "    return(cost_price*tax_coef)"
   ]
  },
  {
   "cell_type": "code",
   "execution_count": 35,
   "id": "cf4d5323-7ece-4f1f-b4cf-b7829710a04e",
   "metadata": {},
   "outputs": [
    {
     "name": "stdout",
     "output_type": "stream",
     "text": [
      "The tax for a bike worth 43500 will be 2175.0\n"
     ]
    }
   ],
   "source": [
    "bike_cost = 43500\n",
    "print(f\"The tax for a bike worth {bike_cost} will be {Tax(bike_cost)}\")"
   ]
  },
  {
   "cell_type": "markdown",
   "id": "51eeaf80-00d3-4bba-bfb2-f104de337fdc",
   "metadata": {},
   "source": [
    "## Excercise 3.Data Format (Yandex Contest)\n",
    "\n",
    "Description:\n",
    "As you know, there are two most common date formats:\n",
    "- European (first day, then month, then year)\n",
    "- American (first month, then day, then year)\n",
    "\n",
    "The system administrator changed the date on one of the backups and now wants to return the date back.\n",
    "But he did not check what format the date is in the system.\n",
    "\n",
    "In other words, you are given a record of some correct date.\n",
    "It is required to find out whether the date is uniquely determined from this record.\n",
    "\n",
    "INPUT:\n",
    "Three integers \n",
    "\n",
    "`x`, `y`, `z`:\n",
    "\n",
    "`1 <= x <= 31, 1 <= y <= 31, 1970 <= z <= 2069`.\n",
    "\n",
    "It is guaranteed that at least one format the xyz entry specifies the correct date.\n",
    "\n",
    "OUTPUT:\n",
    "Print 1 if the date is uniquely determined, and 0 otherwise.\n",
    "\n",
    "\n",
    "Test Case 1:\n",
    "```\n",
    "INPUT:\n",
    "x = 1\n",
    "y = 2\n",
    "z = 2003\n",
    "\n",
    "OUTPUT: 0\n",
    "```\n",
    "```\n",
    "Test Case 2:\n",
    "INPUT:\n",
    "x = 2\n",
    "y = 27\n",
    "z = 2008\n",
    "\n",
    "OUTPUT: 1\n",
    "```\n",
    "\n",
    "Description of the test cases:\n",
    "In the first test case:\n",
    "- with one recording system, the date is February 1, 2003;\n",
    "- with the other - January 2, 2003.\n",
    "It is impossible to name the date uniquely.\n",
    "\n",
    "\n",
    "In the second test case:\n",
    "the correct version of the date can be only American format: February 27, 2008."
   ]
  },
  {
   "cell_type": "code",
   "execution_count": 46,
   "id": "6ce58b32-244d-49c3-bc54-7d29f4fe5f17",
   "metadata": {},
   "outputs": [],
   "source": [
    "def date_unique(x, y, z):\n",
    "    res = int((x == y) or (x>12 or y>12))\n",
    "    return(res)"
   ]
  },
  {
   "cell_type": "code",
   "execution_count": 52,
   "id": "f8665fc8-c2fc-4ffb-a47a-60399c619104",
   "metadata": {},
   "outputs": [
    {
     "name": "stdout",
     "output_type": "stream",
     "text": [
      "Date is uniquely determined: False\n"
     ]
    }
   ],
   "source": [
    "print(f\"Date is uniquely determined: {bool(date_unique(2,1,2003))}\")"
   ]
  }
 ],
 "metadata": {
  "kernelspec": {
   "display_name": "Python 3 (ipykernel)",
   "language": "python",
   "name": "python3"
  },
  "language_info": {
   "codemirror_mode": {
    "name": "ipython",
    "version": 3
   },
   "file_extension": ".py",
   "mimetype": "text/x-python",
   "name": "python",
   "nbconvert_exporter": "python",
   "pygments_lexer": "ipython3",
   "version": "3.9.13"
  }
 },
 "nbformat": 4,
 "nbformat_minor": 5
}
