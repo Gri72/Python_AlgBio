{
 "cells": [
  {
   "cell_type": "markdown",
   "id": "b0ab6ab2-69f1-456c-94c7-f6d776276d1e",
   "metadata": {},
   "source": [
    "# Homework 6\n",
    "by Grigory Vykhodtsev"
   ]
  },
  {
   "cell_type": "markdown",
   "id": "ba74e6c7-92a2-4e25-9936-e3e1b0ffa514",
   "metadata": {},
   "source": [
    "## N-th Tribonacci Number (LeetCode: 1137)"
   ]
  },
  {
   "cell_type": "markdown",
   "id": "4fbd08af-5f0a-47c7-b98e-ca00d0bd23a0",
   "metadata": {},
   "source": [
    "The Tribonacci sequence Tn is defined as follows: \n",
    "\n",
    "T0 = 0, T1 = 1, T2 = 1, and Tn+3 = Tn + Tn+1 + Tn+2 for n >= 0.\n",
    "\n",
    "Given n, return the value of Tn.\n",
    "\n",
    "Example 1:\n",
    "```\n",
    "Input: n = 4\n",
    "Output: 4\n",
    "Explanation:\n",
    "T_3 = 0 + 1 + 1 = 2\n",
    "T_4 = 1 + 1 + 2 = 4\n",
    "```\n",
    "Example 2:\n",
    "```\n",
    "Input: n = 25\n",
    "Output: 1389537\n",
    "```\n",
    "\n",
    "Constraints:\n",
    "- 0 <= n <= 37\n",
    "- class Solution:\n",
    "    def tribonacci(self, n: int) -> int:\n",
    "        trib_list = [0, 1, 1] \n",
    "        if n <= 2:\n",
    "            return trib_list[n]\n",
    "        else:\n",
    "            for _ in range(n-2):\n",
    "                trib_list = trib_list[1:] + [sum(trib_list)]\n",
    "            return trib_list[-1]The answer is guaranteed to fit within a 32-bit integer, ie. answer <= 2^31 - 1."
   ]
  },
  {
   "cell_type": "code",
   "execution_count": null,
   "id": "bc8ea07e-1731-40eb-a7cb-34d1089c638d",
   "metadata": {},
   "outputs": [],
   "source": [
    "class Solution:\n",
    "    def tribonacci(self, n: int) -> int:\n",
    "        trib_list = [0, 1, 1] \n",
    "        if n <= 2:\n",
    "            return trib_list[n]\n",
    "        else:\n",
    "            for _ in range(n-2):\n",
    "                trib_list = trib_list[1:] + [sum(trib_list)]\n",
    "            return trib_list[-1]"
   ]
  },
  {
   "cell_type": "code",
   "execution_count": 11,
   "id": "59e4f75e-a321-4542-b9e4-96f692fd1d62",
   "metadata": {},
   "outputs": [
    {
     "data": {
      "text/plain": [
       "4"
      ]
     },
     "execution_count": 11,
     "metadata": {},
     "output_type": "execute_result"
    }
   ],
   "source": [
    "Solution().tribonacci(4)"
   ]
  }
 ],
 "metadata": {
  "kernelspec": {
   "display_name": "Python 3 (ipykernel)",
   "language": "python",
   "name": "python3"
  },
  "language_info": {
   "codemirror_mode": {
    "name": "ipython",
    "version": 3
   },
   "file_extension": ".py",
   "mimetype": "text/x-python",
   "name": "python",
   "nbconvert_exporter": "python",
   "pygments_lexer": "ipython3",
   "version": "3.9.13"
  }
 },
 "nbformat": 4,
 "nbformat_minor": 5
}
