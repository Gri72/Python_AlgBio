{
 "cells": [
  {
   "cell_type": "markdown",
   "id": "34bc203b-4aec-4ac5-bc8d-9052e9e6e94c",
   "metadata": {
    "tags": []
   },
   "source": [
    "# Homework 4\n",
    "by Grigory Vykhodtsev"
   ]
  },
  {
   "cell_type": "markdown",
   "id": "38bf4072-f2cd-43e3-8b77-308124be8a55",
   "metadata": {
    "tags": []
   },
   "source": [
    "## 1. [Richest Customer Wealth](https://leetcode.com/problems/richest-customer-wealth/description/)"
   ]
  },
  {
   "cell_type": "markdown",
   "id": "1158d347-a0d3-4012-81be-56fa575bf384",
   "metadata": {},
   "source": [
    "You are given an `m x n` integer grid accounts where `accounts[i][j]` is the amount of money the `i`-th customer has in the `j`-th bank. Return the wealth that the richest customer has.\n",
    "\n",
    "A customer's wealth is the amount of money they have in all their bank accounts. The richest customer is the customer that has the maximum wealth.\n",
    "\n",
    " \n",
    "\n",
    "Example 1:\n",
    "```\n",
    "Input: accounts = [[1,2,3],[3,2,1]]\n",
    "Output: 6\n",
    "Explanation:\n",
    "1st customer has wealth = 1 + 2 + 3 = 6\n",
    "2nd customer has wealth = 3 + 2 + 1 = 6\n",
    "Both customers are considered the richest with a wealth of 6 each, so return 6.\n",
    "```\n",
    "Example 2:\n",
    "```\n",
    "Input: accounts = [[1,5],[7,3],[3,5]]\n",
    "Output: 10\n",
    "Explanation: \n",
    "1st customer has wealth = 6\n",
    "2nd customer has wealth = 10 \n",
    "3rd customer has wealth = 8\n",
    "The 2nd customer is the richest with a wealth of 10.\n",
    "```\n",
    "Example 3:\n",
    "```\n",
    "Input: accounts = [[2,8,7],[7,1,3],[1,9,5]]\n",
    "Output: 17\n",
    "```\n",
    "Constraints:\n",
    "\n",
    "- `m == accounts.length`\n",
    "- `n == accounts[i].length`\n",
    "- `1 <= m, n <= 50`\n",
    "- `1 <= accounts[i][j] <= 100`"
   ]
  },
  {
   "cell_type": "code",
   "execution_count": 11,
   "id": "34b64807-8dfe-4eb6-b72d-4a4bdd7b2a1d",
   "metadata": {},
   "outputs": [],
   "source": [
    "class Solution:\n",
    "    def maximumWealth(self, accounts: list[list[int]]) -> int:\n",
    "        return max([sum(customer) for customer in accounts])"
   ]
  },
  {
   "cell_type": "code",
   "execution_count": 12,
   "id": "88523d0a-65c0-4cb5-9554-d95e469b3127",
   "metadata": {},
   "outputs": [
    {
     "data": {
      "text/plain": [
       "17"
      ]
     },
     "execution_count": 12,
     "metadata": {},
     "output_type": "execute_result"
    }
   ],
   "source": [
    "Solution().maximumWealth([[2,8,7],[7,1,3],[1,9,5]])"
   ]
  },
  {
   "cell_type": "markdown",
   "id": "23abb7f3-807c-4a28-9c24-4f0ee71f8217",
   "metadata": {},
   "source": [
    "##  2. [Number of Good Pairs](https://leetcode.com/problems/number-of-good-pairs/description/)"
   ]
  },
  {
   "cell_type": "markdown",
   "id": "4d8084ca-ee1d-4bc0-9578-b7dc9495b0ef",
   "metadata": {},
   "source": [
    "Given an array of integers `nums`, return the number of good pairs.\n",
    "\n",
    "A pair `(i, j)` is called good if `nums[i] == nums[j]` and `i < j`.\n",
    "\n",
    "Example 1:\n",
    "```\n",
    "Input: nums = [1,2,3,1,1,3]\n",
    "Output: 4\n",
    "Explanation: There are 4 good pairs (0,3), (0,4), (3,4), (2,5) 0-indexed.\n",
    "```\n",
    "Example 2:\n",
    "```\n",
    "Input: nums = [1,1,1,1]\n",
    "Output: 6\n",
    "Explanation: Each pair in the array are good.\n",
    "```\n",
    "Example 3:\n",
    "```\n",
    "Input: nums = [1,2,3]\n",
    "Output: 0\n",
    "```\n",
    "\n",
    "Constraints:\n",
    "\n",
    "- ```1 <= nums.length <= 100```\n",
    "- ```1 <= nums[i] <= 100```"
   ]
  },
  {
   "cell_type": "code",
   "execution_count": 38,
   "id": "db22cc01-8dd1-427f-92b7-263e6363007b",
   "metadata": {},
   "outputs": [],
   "source": [
    "class Solution:\n",
    "    def numIdenticalPairs(self, nums: list[int]) -> int:\n",
    "        return sum([nums[:i].count(nums[i]) for i in range(len(nums))])"
   ]
  },
  {
   "cell_type": "code",
   "execution_count": 41,
   "id": "5e9fffe7-823d-4c56-8444-2866a5e056e5",
   "metadata": {},
   "outputs": [
    {
     "data": {
      "text/plain": [
       "6"
      ]
     },
     "execution_count": 41,
     "metadata": {},
     "output_type": "execute_result"
    }
   ],
   "source": [
    "Solution().numIdenticalPairs([1,1,1,1])"
   ]
  },
  {
   "cell_type": "markdown",
   "id": "72df2c68-e1e5-45c4-9048-a06711e3d1b9",
   "metadata": {},
   "source": [
    "## 3. [Check If Two String Arrays are Equivalent](https://leetcode.com/problems/check-if-two-string-arrays-are-equivalent/description/)"
   ]
  },
  {
   "cell_type": "markdown",
   "id": "10f5d8d5-329d-4795-b674-a295340d8088",
   "metadata": {},
   "source": [
    "Given two string arrays `word1` and `word2`, return `true` if the two arrays represent the same string, and `false` otherwise.\n",
    "\n",
    "A string is represented by an array if the array elements concatenated in order forms the string.\n",
    "\n",
    " \n",
    "\n",
    "Example 1:\n",
    "```\n",
    "Input: word1 = [\"ab\", \"c\"], word2 = [\"a\", \"bc\"]\n",
    "Output: true\n",
    "Explanation:\n",
    "word1 represents string \"ab\" + \"c\" -> \"abc\"\n",
    "word2 represents string \"a\" + \"bc\" -> \"abc\"\n",
    "The strings are the same, so return true.\n",
    "```\n",
    "Example 2:\n",
    "```\n",
    "Input: word1 = [\"a\", \"cb\"], word2 = [\"ab\", \"c\"]\n",
    "Output: false\n",
    "```\n",
    "Example 3:\n",
    "```\n",
    "Input: word1  = [\"abc\", \"d\", \"defg\"], word2 = [\"abcddefg\"]\n",
    "Output: true\n",
    "```\n",
    "\n",
    "Constraints:\n",
    "\n",
    "- ```1 <= word1.length, word2.length <= 103```\n",
    "- `1 <= word1[i].length, word2[i].length <= 103`\n",
    "- `1 <= sum(word1[i].length), sum(word2[i].length) <= 103`\n",
    "- `word1[i]` and `word2[i]` consist of lowercase letters."
   ]
  },
  {
   "cell_type": "code",
   "execution_count": 45,
   "id": "8649bdcc-be27-4df2-9283-6cd912718c59",
   "metadata": {},
   "outputs": [],
   "source": [
    "class Solution:\n",
    "    def arrayStringsAreEqual(self, word1:list[str], word2: list[str]) -> bool:\n",
    "        return \"\".join(word1) == \"\".join(word2)"
   ]
  },
  {
   "cell_type": "code",
   "execution_count": 46,
   "id": "26fdcc8f-7ff3-4f64-b0e6-2bf1d92ab3b2",
   "metadata": {},
   "outputs": [
    {
     "data": {
      "text/plain": [
       "True"
      ]
     },
     "execution_count": 46,
     "metadata": {},
     "output_type": "execute_result"
    }
   ],
   "source": [
    "Solution().arrayStringsAreEqual(['a','cd'], ['ac','d'])"
   ]
  },
  {
   "cell_type": "markdown",
   "id": "627e358d-85e7-4c99-996b-f9b8ec1f6164",
   "metadata": {
    "tags": []
   },
   "source": [
    "## 4. [Pascal's Triangle](https://leetcode.com/problems/pascals-triangle/)"
   ]
  },
  {
   "cell_type": "markdown",
   "id": "f0385c79-510e-4e0f-a358-323e50fcc94f",
   "metadata": {},
   "source": [
    "Given an integer numRows, return the first numRows of Pascal's triangle.\n",
    "\n",
    "![](https://upload.wikimedia.org/wikipedia/commons/0/0d/PascalTriangleAnimated2.gif)\n",
    "\n",
    "In Pascal's triangle, each number is the sum of the two numbers directly above it as shown:\n",
    "\n",
    "Example 1:\n",
    "```\n",
    "Input: numRows = 5\n",
    "Output: [[1],[1,1],[1,2,1],[1,3,3,1],[1,4,6,4,1]]\n",
    "```\n",
    "Example 2:\n",
    "```\n",
    "Input: numRows = 1\n",
    "Output: [[1]]\n",
    "```\n",
    "\n",
    "Constraints:\n",
    "- ```1 <= numRows <= 30```"
   ]
  },
  {
   "cell_type": "code",
   "execution_count": 65,
   "id": "fc531f19-48ef-43c6-b944-629e2b4114a5",
   "metadata": {},
   "outputs": [],
   "source": [
    "class Solution:\n",
    "    def generate(self, numRows: int) -> list[list[int]]:\n",
    "        triang = [[1],[1,1]]\n",
    "        if  numRows == 1:\n",
    "            return triang[:1]\n",
    "        elif numRows == 2:\n",
    "            return triang[:2]\n",
    "        else:\n",
    "            for _ in range(numRows-2):\n",
    "                triang += [[1] + [triang[-1][i]+triang[-1][i+1] for i in range(len(triang[-1])-1)] + [1]]\n",
    "                \n",
    "            return triang        "
   ]
  },
  {
   "cell_type": "code",
   "execution_count": 67,
   "id": "46912d77-afe1-4ffd-a6b7-08f06fee0532",
   "metadata": {},
   "outputs": [
    {
     "data": {
      "text/plain": [
       "[[1], [1, 1], [1, 2, 1], [1, 3, 3, 1], [1, 4, 6, 4, 1]]"
      ]
     },
     "execution_count": 67,
     "metadata": {},
     "output_type": "execute_result"
    }
   ],
   "source": [
    "Solution().generate(5)"
   ]
  },
  {
   "cell_type": "markdown",
   "id": "0f66a2ec-ee48-427e-857b-60674d474367",
   "metadata": {},
   "source": [
    "## 5. [Pascal's Triangle II](https://leetcode.com/problems/pascals-triangle-ii/)"
   ]
  },
  {
   "cell_type": "markdown",
   "id": "f552da89-cf60-4d5b-b1ad-d864a7107496",
   "metadata": {},
   "source": [
    "Given an integer rowIndex, return the rowIndexth (0-indexed) row of the Pascal's triangle.\n",
    "\n",
    "In Pascal's triangle, each number is the sum of the two numbers directly above it as shown:\n",
    "\n",
    "Example 1:\n",
    "```\n",
    "Input: rowIndex = 3\n",
    "Output: [1,3,3,1]\n",
    "```\n",
    "Example 2:\n",
    "```\n",
    "Input: rowIndex = 0\n",
    "Output: [1]\n",
    "```\n",
    "Example 3:\n",
    "```\n",
    "Input: rowIndex = 1\n",
    "Output: [1,1]\n",
    "```\n",
    "\n",
    "Constraints:\n",
    "\n",
    "```0 <= rowIndex <= 33```\n"
   ]
  },
  {
   "cell_type": "code",
   "execution_count": null,
   "id": "8264cd2d-5fdf-4f4c-83c1-29e5babfcd33",
   "metadata": {},
   "outputs": [],
   "source": [
    "class Solution:\n",
    "    def getRow(self, rowIndex: int) -> list[int]:\n",
    "        triang = [1,1]\n",
    "        if  numRows == 1:\n",
    "            return [1]\n",
    "        elif numRows == 2:\n",
    "            return triang\n",
    "        else:\n",
    "            for _ in range(numRows-2):\n",
    "                triang = [[1] + [triang[i]+triang[i+1] for i in range(len(triang)-1)] + [1]]\n",
    "                \n",
    "            return triang  "
   ]
  },
  {
   "cell_type": "markdown",
   "id": "7f436a84-e4bc-4e9d-ac7e-68c7460bdb86",
   "metadata": {},
   "source": [
    "## 6. [Valid Anagram](https://leetcode.com/problems/valid-anagram/description/)"
   ]
  },
  {
   "cell_type": "markdown",
   "id": "da91b835-da1a-4fa8-86e2-89e4548804ec",
   "metadata": {},
   "source": [
    "Given two strings s and t, return true if t is an anagram of s, and false otherwise.\n",
    "\n",
    "An Anagram is a word or phrase formed by rearranging the letters of a different word or phrase, typically using all the original letters exactly once.\n",
    "\n",
    " \n",
    "\n",
    "Example 1:\n",
    "```\n",
    "Input: s = \"anagram\", t = \"nagaram\"\n",
    "Output: true\n",
    "```\n",
    "Example 2:\n",
    "```\n",
    "Input: s = \"rat\", t = \"car\"\n",
    "Output: false\n",
    "```\n",
    " \n",
    "\n",
    "Constraints:\n",
    "\n",
    "- `1 <= s.length`, `t.length <= 5 * 104`\n",
    "- `s` and `t` consist of lowercase English letters."
   ]
  },
  {
   "cell_type": "code",
   "execution_count": 3,
   "id": "2e11dcfc-45ad-469b-a07d-1011d4b70cb8",
   "metadata": {},
   "outputs": [],
   "source": [
    "class Solution:\n",
    "    def isAnagram(self, s: str, t: str) -> bool:\n",
    "        return sorted(s) == sorted(t)"
   ]
  },
  {
   "cell_type": "code",
   "execution_count": 4,
   "id": "aad83ea6-5779-46be-9a43-fe313cdd0ef9",
   "metadata": {},
   "outputs": [
    {
     "data": {
      "text/plain": [
       "True"
      ]
     },
     "execution_count": 4,
     "metadata": {},
     "output_type": "execute_result"
    }
   ],
   "source": [
    "Solution().isAnagram('car','rca')"
   ]
  },
  {
   "cell_type": "markdown",
   "id": "d9252c8f-443b-4db3-8dca-2141760e3245",
   "metadata": {},
   "source": [
    "## 7. [Find All Duplicates in an Array](https://leetcode.com/problems/find-all-duplicates-in-an-array/description/)"
   ]
  },
  {
   "cell_type": "markdown",
   "id": "b479651e-736a-49ae-b9f8-f9a9aa81a79b",
   "metadata": {},
   "source": [
    "Given an integer array `nums` of length `n` where all the integers of `nums` are in the range `[1, n]` and each integer appears once or twice, return an array of all the integers that appears twice.\n",
    "\n",
    "You must write an algorithm that runs in **O(n)** time and uses only constant extra space.\n",
    "\n",
    "Example 1:\n",
    "```\n",
    "Input: nums = [4,3,2,7,8,2,3,1]\n",
    "Output: [2,3]\n",
    "```\n",
    "Example 2:\n",
    "```\n",
    "Input: nums = [1,1,2]\n",
    "Output: [1]\n",
    "```\n",
    "Example 3:\n",
    "```\n",
    "Input: nums = [1]\n",
    "Output: []\n",
    "``` \n",
    "\n",
    "Constraints:\n",
    "\n",
    "- `n == nums.length`\n",
    "- `1 <= n <= 105`\n",
    "- `1 <= nums[i] <= n`\n",
    "Each element in nums appears once or twice."
   ]
  },
  {
   "cell_type": "code",
   "execution_count": 7,
   "id": "d78c2938-4964-41e3-8613-38edf5b05844",
   "metadata": {},
   "outputs": [],
   "source": [
    "class Solution:\n",
    "    def findDuplicates(self, nums: list[int]) -> list[int]:\n",
    "        rs = []\n",
    "        for num in nums:\n",
    "            num = abs(num)\n",
    "            if nums[num-1] < 0: # если не первый значение уже отрицательное\n",
    "                rs.append(num)\n",
    "            else:\n",
    "                nums[num-1] = -nums[num-1] # добавялем минус если первый раз встретилось\n",
    "        return rs "
   ]
  },
  {
   "cell_type": "markdown",
   "id": "af9f6f77-266c-421a-89fe-dff370f72742",
   "metadata": {},
   "source": [
    "Признаю, скатал решение с литкода, но разобрался в решении. "
   ]
  },
  {
   "cell_type": "code",
   "execution_count": 8,
   "id": "17c2a844-9ce7-43e8-bfc2-cc3f71c2c268",
   "metadata": {},
   "outputs": [
    {
     "data": {
      "text/plain": [
       "[2, 3]"
      ]
     },
     "execution_count": 8,
     "metadata": {},
     "output_type": "execute_result"
    }
   ],
   "source": [
    "Solution().findDuplicates([4,3,2,7,8,2,3,1])"
   ]
  },
  {
   "cell_type": "markdown",
   "id": "3fc7a766-e6f8-420c-a590-e798f6564701",
   "metadata": {},
   "source": [
    "## 8. [Check if All Characters Have Equal Number of Occurrences](https://leetcode.com/problems/check-if-all-characters-have-equal-number-of-occurrences/)"
   ]
  },
  {
   "cell_type": "markdown",
   "id": "fb88c72c-7f4a-4ea7-a982-d3f8dfc3e648",
   "metadata": {},
   "source": [
    "Given a string s, return true if s is a good string, or false otherwise.\n",
    "\n",
    "A string s is good if all the characters that appear in s have the same number of occurrences (i.e., the same frequency).\n",
    "\n",
    " \n",
    "\n",
    "Example 1:\n",
    "```\n",
    "Input: s = \"abacbc\"\n",
    "Output: true\n",
    "Explanation: The characters that appear in s are 'a', 'b', and 'c'. All characters occur 2 times in s.\n",
    "```\n",
    "Example 2:\n",
    "```\n",
    "Input: s = \"aaabb\"\n",
    "Output: false\n",
    "Explanation: The characters that appear in s are 'a' and 'b'.\n",
    "'a' occurs 3 times while 'b' occurs 2 times, which is not the same number of times.\n",
    "```\n",
    "\n",
    "Constraints:\n",
    "\n",
    "- `1 <= s.length <= 1000`\n",
    "- `s` consists of lowercase English letters."
   ]
  },
  {
   "cell_type": "code",
   "execution_count": 10,
   "id": "37694075-70de-4843-80c1-8c59822e8b47",
   "metadata": {},
   "outputs": [],
   "source": [
    "class Solution:\n",
    "    def areOccurrencesEqual(self, s: str) -> bool:\n",
    "        return len(set([s.count(i) for i in set(s)])) == 1"
   ]
  },
  {
   "cell_type": "code",
   "execution_count": 11,
   "id": "d90f9ab6-810b-498a-8771-234898659a3d",
   "metadata": {},
   "outputs": [
    {
     "data": {
      "text/plain": [
       "False"
      ]
     },
     "execution_count": 11,
     "metadata": {},
     "output_type": "execute_result"
    }
   ],
   "source": [
    "Solution().areOccurrencesEqual('aaabb')"
   ]
  },
  {
   "cell_type": "markdown",
   "id": "6a3ea3e7-ea59-4ac7-bcdd-683c7c4881ea",
   "metadata": {},
   "source": [
    "## 9. [Check if the Sentence Is Pangram](https://leetcode.com/problems/check-if-the-sentence-is-pangram/)"
   ]
  },
  {
   "cell_type": "markdown",
   "id": "b42f5af3-c2bd-4ea9-84d4-477439541a64",
   "metadata": {},
   "source": [
    "A pangram is a sentence where every letter of the English alphabet appears at least once.\n",
    "\n",
    "Given a string `sentence` containing only lowercase English letters, return `true` if sentence is a pangram, or `false` otherwise.\n",
    "\n",
    " \n",
    "\n",
    "Example 1:\n",
    "```\n",
    "Input: sentence = \"thequickbrownfoxjumpsoverthelazydog\"\n",
    "Output: true\n",
    "Explanation: sentence contains at least one of every letter of the English alphabet.\n",
    "```\n",
    "Example 2:\n",
    "```\n",
    "Input: sentence = \"leetcode\"\n",
    "Output: false\n",
    "```\n",
    "\n",
    "Constraints:\n",
    "\n",
    "- `1 <= sentence.length <= 1000`\n",
    "- `sentence` consists of lowercase English letters."
   ]
  },
  {
   "cell_type": "code",
   "execution_count": 15,
   "id": "a434910f-3acb-4ccf-ae1b-9b0ce7bd61dc",
   "metadata": {},
   "outputs": [],
   "source": [
    "class Solution:\n",
    "    def checkIfPangram(self, sentence: str) -> bool:\n",
    "        alphabet = 'abcdefghijklmnopqrstuvwxyz'\n",
    "        return set(alphabet) == set(sentence)"
   ]
  },
  {
   "cell_type": "code",
   "execution_count": 16,
   "id": "b9fee238-0136-403b-b553-aa226ec24a91",
   "metadata": {},
   "outputs": [
    {
     "data": {
      "text/plain": [
       "False"
      ]
     },
     "execution_count": 16,
     "metadata": {},
     "output_type": "execute_result"
    }
   ],
   "source": [
    "Solution().checkIfPangram('aaab')"
   ]
  },
  {
   "cell_type": "markdown",
   "id": "178a3031-79b1-4ff3-9593-73e92942a2d4",
   "metadata": {},
   "source": [
    "## 10. [Two Sum](https://leetcode.com/problems/two-sum/)"
   ]
  },
  {
   "cell_type": "markdown",
   "id": "05179aa6-6ae4-4926-bd42-25e505771518",
   "metadata": {},
   "source": [
    "Given an array of integers `nums` and an integer `target`, return indices of the two numbers such that they add up to `target`.\n",
    "\n",
    "You may assume that each input would have exactly one solution, and you may not use the same element twice.\n",
    "\n",
    "You can return the answer in any order.\n",
    "\n",
    " \n",
    "\n",
    "Example 1:\n",
    "```\n",
    "Input: nums = [2,7,11,15], target = 9\n",
    "Output: [0,1]\n",
    "Explanation: Because nums[0] + nums[1] == 9, we return [0, 1].\n",
    "```\n",
    "Example 2:\n",
    "```\n",
    "Input: nums = [3,2,4], target = 6\n",
    "Output: [1,2]\n",
    "```\n",
    "Example 3:\n",
    "```\n",
    "Input: nums = [3,3], target = 6\n",
    "Output: [0,1]\n",
    "```\n",
    "Constraints:\n",
    "\n",
    "- `2 <= nums.length <= 104`\n",
    "- `-109 <= nums[i] <= 109`\n",
    "- `-109 <= target <= 109`\n",
    "- Only one valid answer exists.\n",
    " "
   ]
  },
  {
   "cell_type": "code",
   "execution_count": 18,
   "id": "94c83767-84fb-41a8-8eb3-50d3cc91fa47",
   "metadata": {},
   "outputs": [],
   "source": [
    "class Solution:\n",
    "    def twoSum(self, nums: list[int], target: int) -> list[int]:\n",
    "        r = range(len(nums))\n",
    "        for i in r:\n",
    "            for j in r:\n",
    "                if i != j and nums[i]+nums[j] == target:\n",
    "                    return[i,j]"
   ]
  },
  {
   "cell_type": "markdown",
   "id": "03d14f3f-2588-4d74-84cc-02ef4531229a",
   "metadata": {},
   "source": [
    "Да, $O(n^2)$. Я не знаю алгоритмы, хэш-таблицы и т.д."
   ]
  },
  {
   "cell_type": "code",
   "execution_count": 19,
   "id": "68c23ac3-3158-459f-b354-4a00e1df202d",
   "metadata": {},
   "outputs": [
    {
     "data": {
      "text/plain": [
       "[0, 1]"
      ]
     },
     "execution_count": 19,
     "metadata": {},
     "output_type": "execute_result"
    }
   ],
   "source": [
    "Solution().twoSum([2,7,11,15], 9)"
   ]
  }
 ],
 "metadata": {
  "kernelspec": {
   "display_name": "Python 3 (ipykernel)",
   "language": "python",
   "name": "python3"
  },
  "language_info": {
   "codemirror_mode": {
    "name": "ipython",
    "version": 3
   },
   "file_extension": ".py",
   "mimetype": "text/x-python",
   "name": "python",
   "nbconvert_exporter": "python",
   "pygments_lexer": "ipython3",
   "version": "3.9.13"
  }
 },
 "nbformat": 4,
 "nbformat_minor": 5
}
