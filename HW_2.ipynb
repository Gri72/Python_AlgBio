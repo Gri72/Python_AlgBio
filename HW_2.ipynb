{
 "cells": [
  {
   "cell_type": "markdown",
   "id": "da00027a-e9e2-4b92-8d03-56704a725c92",
   "metadata": {},
   "source": [
    "# Homework 2\n",
    "by Grigory Vykhodtsev"
   ]
  },
  {
   "cell_type": "markdown",
   "id": "144c1e70-b454-4d88-b602-50447b529aa8",
   "metadata": {},
   "source": [
    "Exercise (Hard): [Robot Return to Origin](https://leetcode.com/problems/robot-return-to-origin/).\n",
    "\n",
    "There is a robot starting at the position `(0, 0)`, the origin, on a 2D plane.\n",
    "Given a sequence of its moves, judge if this robot ends up at `(0, 0)` after it completes its moves.\n",
    "\n",
    "You are given a string moves that represents the move sequence of the robot\n",
    "where `moves[i]` represents its ith move.\n",
    "\n",
    "Valid moves are `'R'` (right), `'L'` (left), `'U'` (up), and `'D'` (down).\n",
    "\n",
    "Return `true` if the robot returns to the origin after it finishes all of its moves, or `false` otherwise.\n",
    "\n",
    "Note: The way that the robot is \"facing\" is irrelevant. `'R'` will always make the robot move to the right once, `'L'` will always make it move left, etc. Also, assume that the magnitude of the robot's movement is the same for each move.\n",
    "\n",
    "EXAMPLE 1:\n",
    "Input: moves = \"UD\"\n",
    "Output: True\n",
    "Explanation: The robot moves up once, and then down once.\n",
    "All moves have the same magnitude, so it ended up at the origin where it started.\n",
    "Therefore, we return True.\n",
    "\n",
    "EXAMPLE 2:\n",
    "Input: moves = \"LL\"\n",
    "Output: False\n",
    "Explanation: The robot moves left twice.\n",
    "It ends up two \"moves\" to the left of the origin.\n",
    "We return False because it is not at the origin at the end of its moves.\n",
    "\n",
    "EXAMPLE 3:\n",
    "Input: moves = \"RRDD\"\n",
    "Output: False\n",
    "\n",
    "EXAMPLE 4:\n",
    "Input: moves = \"LDRRLRUULR\"\n",
    "Output: False\n",
    "\n",
    "Keywords: list, string, for, if, elif, else!\n",
    "\"\"\"\n"
   ]
  },
  {
   "cell_type": "code",
   "execution_count": 6,
   "id": "71d7eaa3-edad-4608-98be-d639d44ae47a",
   "metadata": {},
   "outputs": [],
   "source": [
    "class Solution(object):\n",
    "    def judgeCircle(self, moves):\n",
    "        \"\"\"\n",
    "        :type moves: str\n",
    "        :rtype: bool\n",
    "        \"\"\"\n",
    "        x = 0\n",
    "        y = 0\n",
    "        for move in moves:\n",
    "            if move == 'U':\n",
    "                y+=1\n",
    "            elif move == 'D':\n",
    "                y-=1\n",
    "            elif move == 'R':\n",
    "                x+=1\n",
    "            elif move == 'L':\n",
    "                x-=1\n",
    "        res = (x != 0 and y != 0)\n",
    "        return(str(res).lower())"
   ]
  },
  {
   "cell_type": "code",
   "execution_count": 7,
   "id": "91128785-6c61-47fa-a7cd-f61066028fa0",
   "metadata": {},
   "outputs": [
    {
     "data": {
      "text/plain": [
       "'false'"
      ]
     },
     "execution_count": 7,
     "metadata": {},
     "output_type": "execute_result"
    }
   ],
   "source": [
    "Solution().judgeCircle('RRRRRLLLLLLRUUUUDUDLUULDL')"
   ]
  },
  {
   "cell_type": "markdown",
   "id": "e0f5ef15-a93b-40cb-884d-20cdb93e0eff",
   "metadata": {},
   "source": [
    "$$\\frac{1}{\\sigma\\sqrt{2\\pi}}\\; \\exp\\left(-\\frac{\\left(x-\\mu\\right)^2}{2\\sigma^2} \\right)$$"
   ]
  },
  {
   "cell_type": "code",
   "execution_count": null,
   "id": "6d2de0e1-b8b7-4eae-a867-0935e6a86004",
   "metadata": {},
   "outputs": [],
   "source": []
  },
  {
   "cell_type": "code",
   "execution_count": null,
   "id": "b2279985-136e-41c9-851a-f802da6a9628",
   "metadata": {},
   "outputs": [],
   "source": []
  }
 ],
 "metadata": {
  "kernelspec": {
   "display_name": "Python 3 (ipykernel)",
   "language": "python",
   "name": "python3"
  },
  "language_info": {
   "codemirror_mode": {
    "name": "ipython",
    "version": 3
   },
   "file_extension": ".py",
   "mimetype": "text/x-python",
   "name": "python",
   "nbconvert_exporter": "python",
   "pygments_lexer": "ipython3",
   "version": "3.9.13"
  }
 },
 "nbformat": 4,
 "nbformat_minor": 5
}
